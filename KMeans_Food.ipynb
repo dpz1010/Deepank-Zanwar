{
 "cells": [
  {
   "cell_type": "code",
   "execution_count": 13,
   "metadata": {},
   "outputs": [],
   "source": [
    "import pandas as pd\n",
    "import numpy as np\n",
    "from sklearn.cluster import KMeans\n",
    "from sklearn.preprocessing import LabelEncoder\n",
    "from sklearn.preprocessing import MinMaxScaler\n",
    "import seaborn as sns\n",
    "import matplotlib.pyplot as plt\n",
    "%matplotlib inline"
   ]
  },
  {
   "cell_type": "code",
   "execution_count": 29,
   "metadata": {},
   "outputs": [
    {
     "data": {
      "text/plain": [
       "(25, 10)"
      ]
     },
     "execution_count": 29,
     "metadata": {},
     "output_type": "execute_result"
    }
   ],
   "source": [
    "df = pd.read_csv(\"D:\\\\Training\\\\001-RB Data Science\\\\006_KMeans\\\\food.csv\")\n",
    "df.shape"
   ]
  },
  {
   "cell_type": "code",
   "execution_count": 16,
   "metadata": {},
   "outputs": [
    {
     "data": {
      "text/html": [
       "<div>\n",
       "<style scoped>\n",
       "    .dataframe tbody tr th:only-of-type {\n",
       "        vertical-align: middle;\n",
       "    }\n",
       "\n",
       "    .dataframe tbody tr th {\n",
       "        vertical-align: top;\n",
       "    }\n",
       "\n",
       "    .dataframe thead th {\n",
       "        text-align: right;\n",
       "    }\n",
       "</style>\n",
       "<table border=\"1\" class=\"dataframe\">\n",
       "  <thead>\n",
       "    <tr style=\"text-align: right;\">\n",
       "      <th></th>\n",
       "      <th>Country</th>\n",
       "      <th>RedMeat</th>\n",
       "      <th>WhiteMeat</th>\n",
       "      <th>Eggs</th>\n",
       "      <th>Milk</th>\n",
       "      <th>Fish</th>\n",
       "      <th>Cereals</th>\n",
       "      <th>Starch</th>\n",
       "      <th>Nuts</th>\n",
       "      <th>Fr.Veg</th>\n",
       "    </tr>\n",
       "  </thead>\n",
       "  <tbody>\n",
       "    <tr>\n",
       "      <th>0</th>\n",
       "      <td>Albania</td>\n",
       "      <td>10.1</td>\n",
       "      <td>1.4</td>\n",
       "      <td>0.5</td>\n",
       "      <td>8.9</td>\n",
       "      <td>0.2</td>\n",
       "      <td>42.3</td>\n",
       "      <td>0.6</td>\n",
       "      <td>5.5</td>\n",
       "      <td>1.7</td>\n",
       "    </tr>\n",
       "    <tr>\n",
       "      <th>1</th>\n",
       "      <td>Austria</td>\n",
       "      <td>8.9</td>\n",
       "      <td>14.0</td>\n",
       "      <td>4.3</td>\n",
       "      <td>19.9</td>\n",
       "      <td>2.1</td>\n",
       "      <td>28.0</td>\n",
       "      <td>3.6</td>\n",
       "      <td>1.3</td>\n",
       "      <td>4.3</td>\n",
       "    </tr>\n",
       "    <tr>\n",
       "      <th>2</th>\n",
       "      <td>Belgium</td>\n",
       "      <td>13.5</td>\n",
       "      <td>9.3</td>\n",
       "      <td>4.1</td>\n",
       "      <td>17.5</td>\n",
       "      <td>4.5</td>\n",
       "      <td>26.6</td>\n",
       "      <td>5.7</td>\n",
       "      <td>2.1</td>\n",
       "      <td>4.0</td>\n",
       "    </tr>\n",
       "    <tr>\n",
       "      <th>3</th>\n",
       "      <td>Bulgaria</td>\n",
       "      <td>7.8</td>\n",
       "      <td>6.0</td>\n",
       "      <td>1.6</td>\n",
       "      <td>8.3</td>\n",
       "      <td>1.2</td>\n",
       "      <td>56.7</td>\n",
       "      <td>1.1</td>\n",
       "      <td>3.7</td>\n",
       "      <td>4.2</td>\n",
       "    </tr>\n",
       "    <tr>\n",
       "      <th>4</th>\n",
       "      <td>Czechoslovakia</td>\n",
       "      <td>9.7</td>\n",
       "      <td>11.4</td>\n",
       "      <td>2.8</td>\n",
       "      <td>12.5</td>\n",
       "      <td>2.0</td>\n",
       "      <td>34.3</td>\n",
       "      <td>5.0</td>\n",
       "      <td>1.1</td>\n",
       "      <td>4.0</td>\n",
       "    </tr>\n",
       "  </tbody>\n",
       "</table>\n",
       "</div>"
      ],
      "text/plain": [
       "          Country  RedMeat  WhiteMeat  Eggs  Milk  Fish  Cereals  Starch  \\\n",
       "0         Albania     10.1        1.4   0.5   8.9   0.2     42.3     0.6   \n",
       "1         Austria      8.9       14.0   4.3  19.9   2.1     28.0     3.6   \n",
       "2         Belgium     13.5        9.3   4.1  17.5   4.5     26.6     5.7   \n",
       "3        Bulgaria      7.8        6.0   1.6   8.3   1.2     56.7     1.1   \n",
       "4  Czechoslovakia      9.7       11.4   2.8  12.5   2.0     34.3     5.0   \n",
       "\n",
       "   Nuts  Fr.Veg  \n",
       "0   5.5     1.7  \n",
       "1   1.3     4.3  \n",
       "2   2.1     4.0  \n",
       "3   3.7     4.2  \n",
       "4   1.1     4.0  "
      ]
     },
     "execution_count": 16,
     "metadata": {},
     "output_type": "execute_result"
    }
   ],
   "source": [
    "df.head()"
   ]
  },
  {
   "cell_type": "code",
   "execution_count": 19,
   "metadata": {},
   "outputs": [
    {
     "data": {
      "text/html": [
       "<div>\n",
       "<style scoped>\n",
       "    .dataframe tbody tr th:only-of-type {\n",
       "        vertical-align: middle;\n",
       "    }\n",
       "\n",
       "    .dataframe tbody tr th {\n",
       "        vertical-align: top;\n",
       "    }\n",
       "\n",
       "    .dataframe thead th {\n",
       "        text-align: right;\n",
       "    }\n",
       "</style>\n",
       "<table border=\"1\" class=\"dataframe\">\n",
       "  <thead>\n",
       "    <tr style=\"text-align: right;\">\n",
       "      <th></th>\n",
       "      <th>RedMeat</th>\n",
       "      <th>WhiteMeat</th>\n",
       "      <th>Eggs</th>\n",
       "      <th>Milk</th>\n",
       "      <th>Fish</th>\n",
       "      <th>Cereals</th>\n",
       "      <th>Starch</th>\n",
       "      <th>Nuts</th>\n",
       "      <th>Fr.Veg</th>\n",
       "    </tr>\n",
       "  </thead>\n",
       "  <tbody>\n",
       "    <tr>\n",
       "      <th>0</th>\n",
       "      <td>10.1</td>\n",
       "      <td>1.4</td>\n",
       "      <td>0.5</td>\n",
       "      <td>8.9</td>\n",
       "      <td>0.2</td>\n",
       "      <td>42.3</td>\n",
       "      <td>0.6</td>\n",
       "      <td>5.5</td>\n",
       "      <td>1.7</td>\n",
       "    </tr>\n",
       "    <tr>\n",
       "      <th>1</th>\n",
       "      <td>8.9</td>\n",
       "      <td>14.0</td>\n",
       "      <td>4.3</td>\n",
       "      <td>19.9</td>\n",
       "      <td>2.1</td>\n",
       "      <td>28.0</td>\n",
       "      <td>3.6</td>\n",
       "      <td>1.3</td>\n",
       "      <td>4.3</td>\n",
       "    </tr>\n",
       "    <tr>\n",
       "      <th>2</th>\n",
       "      <td>13.5</td>\n",
       "      <td>9.3</td>\n",
       "      <td>4.1</td>\n",
       "      <td>17.5</td>\n",
       "      <td>4.5</td>\n",
       "      <td>26.6</td>\n",
       "      <td>5.7</td>\n",
       "      <td>2.1</td>\n",
       "      <td>4.0</td>\n",
       "    </tr>\n",
       "    <tr>\n",
       "      <th>3</th>\n",
       "      <td>7.8</td>\n",
       "      <td>6.0</td>\n",
       "      <td>1.6</td>\n",
       "      <td>8.3</td>\n",
       "      <td>1.2</td>\n",
       "      <td>56.7</td>\n",
       "      <td>1.1</td>\n",
       "      <td>3.7</td>\n",
       "      <td>4.2</td>\n",
       "    </tr>\n",
       "    <tr>\n",
       "      <th>4</th>\n",
       "      <td>9.7</td>\n",
       "      <td>11.4</td>\n",
       "      <td>2.8</td>\n",
       "      <td>12.5</td>\n",
       "      <td>2.0</td>\n",
       "      <td>34.3</td>\n",
       "      <td>5.0</td>\n",
       "      <td>1.1</td>\n",
       "      <td>4.0</td>\n",
       "    </tr>\n",
       "  </tbody>\n",
       "</table>\n",
       "</div>"
      ],
      "text/plain": [
       "   RedMeat  WhiteMeat  Eggs  Milk  Fish  Cereals  Starch  Nuts  Fr.Veg\n",
       "0     10.1        1.4   0.5   8.9   0.2     42.3     0.6   5.5     1.7\n",
       "1      8.9       14.0   4.3  19.9   2.1     28.0     3.6   1.3     4.3\n",
       "2     13.5        9.3   4.1  17.5   4.5     26.6     5.7   2.1     4.0\n",
       "3      7.8        6.0   1.6   8.3   1.2     56.7     1.1   3.7     4.2\n",
       "4      9.7       11.4   2.8  12.5   2.0     34.3     5.0   1.1     4.0"
      ]
     },
     "execution_count": 19,
     "metadata": {},
     "output_type": "execute_result"
    }
   ],
   "source": [
    "df_x=df.iloc[:,1:11]\n",
    "df_x.head()"
   ]
  },
  {
   "cell_type": "code",
   "execution_count": 22,
   "metadata": {},
   "outputs": [
    {
     "data": {
      "text/plain": [
       "array([[ 0.08294065, -1.79475017, -2.22458425, -1.1795703 , -1.22503282,\n",
       "         0.9348045 , -2.29596509,  1.24796771, -1.37825141],\n",
       "       [-0.28297397,  1.68644628,  1.24562107,  0.40046785, -0.6551106 ,\n",
       "        -0.39505069, -0.42221774, -0.91079027,  0.09278868],\n",
       "       [ 1.11969872,  0.38790475,  1.06297868,  0.05573225,  0.06479116,\n",
       "        -0.5252463 ,  0.88940541, -0.49959828, -0.07694671],\n",
       "       [-0.6183957 , -0.52383718, -1.22005113, -1.2657542 , -0.92507375,\n",
       "         2.27395937, -1.98367386,  0.32278572,  0.03621022],\n",
       "       [-0.03903089,  0.96810416, -0.12419682, -0.6624669 , -0.6851065 ,\n",
       "         0.19082957,  0.45219769, -1.01358827, -0.07694671],\n",
       "       [ 0.23540507,  0.8023329 ,  0.69769391,  1.13303099,  1.68457011,\n",
       "        -0.96233157,  0.3272812 , -1.21918427, -0.98220215],\n",
       "       [-0.43543839,  1.02336124,  0.69769391, -0.86356267,  0.33475432,\n",
       "        -0.71124003,  1.38907137, -1.16778527, -0.30326057],\n",
       "       [-0.10001666, -0.82775116, -0.21551801,  2.38269753,  0.45473794,\n",
       "        -0.55314536,  0.51465594, -1.06498727, -1.5479868 ],\n",
       "       [ 2.49187852,  0.55367601,  0.33240914,  0.34301192,  0.42474204,\n",
       "        -0.385751  ,  0.3272812 , -0.34540128,  1.33751491],\n",
       "       [ 0.11343353, -1.35269348, -0.12419682,  0.07009624,  0.48473385,\n",
       "         0.87900638, -1.29663317,  2.4301447 ,  1.33751491],\n",
       "       [-1.38071781,  1.24438959, -0.03287563, -1.06465843, -1.19503691,\n",
       "         0.73021139, -0.17238476,  1.19656871,  0.03621022],\n",
       "       [ 1.24167025,  0.58130455,  1.61090584,  1.24794286, -0.62511469,\n",
       "        -0.76703815,  1.20169663, -0.75659327, -0.69930983],\n",
       "       [-0.25248108, -0.77249407, -0.03287563, -0.49009911, -0.26516381,\n",
       "         0.42332173, -1.35909141,  0.63117972,  1.45067184],\n",
       "       [-0.10001666,  1.57593211,  0.60637272,  0.90320726, -0.53512697,\n",
       "        -0.91583314, -0.04746827, -0.65379528, -0.24668211],\n",
       "       [-0.13050955, -0.88300824, -0.21551801,  0.88884328,  1.62457829,\n",
       "        -0.86003502,  0.20236471, -0.75659327, -0.81246676],\n",
       "       [-0.89283166,  0.63656164, -0.21551801,  0.31428395, -0.38514744,\n",
       "         0.35822393,  1.0143219 , -0.55099728,  1.39409338],\n",
       "       [-1.10628185, -1.15929368, -1.67665709, -1.75412962,  2.97439408,\n",
       "        -0.48804755,  1.0143219 ,  0.83677571,  2.12961342],\n",
       "       [-1.10628185, -0.44095155, -1.31137232, -0.86356267, -0.98506557,\n",
       "         1.61368162, -0.73450896,  1.14516971, -0.75588829],\n",
       "       [-0.83184589, -1.24217931,  0.14976676, -1.22266225,  0.81468882,\n",
       "        -0.28345445,  0.88940541,  1.45356371,  1.73356417],\n",
       "       [ 0.02195488, -0.0265234 ,  0.51505153,  1.08993904,  0.96466835,\n",
       "        -1.18552405, -0.35975949, -0.85939127, -1.20851601],\n",
       "       [ 0.99772718,  0.60893309,  0.14976676,  0.96066319, -0.59511878,\n",
       "        -0.61824316, -0.9218837 , -0.34540128,  0.43225947],\n",
       "       [ 2.30892121, -0.60672281,  1.61090584,  0.50101573,  0.00479935,\n",
       "        -0.73913909,  0.26482296,  0.16858872, -0.47299597],\n",
       "       [-0.16100243, -0.91063679, -0.76344517, -0.07354359, -0.38514744,\n",
       "         1.05570042,  1.32661312,  0.16858872, -0.69930983],\n",
       "       [ 0.47934814,  1.27201813,  1.06297868,  0.24246404, -0.26516381,\n",
       "        -1.26922123,  0.57711418, -0.80799227, -0.19010364],\n",
       "       [-1.65515377, -0.80012261, -1.5853359 , -1.0933864 , -1.10504919,\n",
       "         2.19956187, -0.79696721,  1.35076571, -0.52957443]])"
      ]
     },
     "execution_count": 22,
     "metadata": {},
     "output_type": "execute_result"
    }
   ],
   "source": [
    "from sklearn.preprocessing import StandardScaler\n",
    "scaler = StandardScaler()\n",
    "scaler.fit(df_x)\n",
    "df_x = scaler.transform(df_x)\n",
    "\n",
    "df_x"
   ]
  },
  {
   "cell_type": "code",
   "execution_count": 23,
   "metadata": {},
   "outputs": [
    {
     "data": {
      "text/plain": [
       "KMeans(algorithm='auto', copy_x=True, init='k-means++', max_iter=300,\n",
       "    n_clusters=3, n_init=10, n_jobs=None, precompute_distances='auto',\n",
       "    random_state=None, tol=0.0001, verbose=0)"
      ]
     },
     "execution_count": 23,
     "metadata": {},
     "output_type": "execute_result"
    }
   ],
   "source": [
    "kmeans = KMeans(n_clusters=3) # You want cluster the passenger records into 2: Survived or Not survived\n",
    "kmeans.fit(df_x)"
   ]
  },
  {
   "cell_type": "code",
   "execution_count": 9,
   "metadata": {},
   "outputs": [
    {
     "data": {
      "text/plain": [
       "array([[ 0.51683795,  0.58810848,  0.59581802,  0.12078352, -0.62258302,\n",
       "         0.36059227, -0.71890067, -0.22405072],\n",
       "       [-0.53765145, -1.18961073, -0.9234126 , -0.97006761,  1.46798653,\n",
       "        -0.77614779,  0.90530771, -0.54843392],\n",
       "       [-1.13166513, -0.4209907 , -0.84919869,  1.00216323,  0.13270653,\n",
       "        -0.18799932,  1.33791596,  1.66284109]])"
      ]
     },
     "execution_count": 9,
     "metadata": {},
     "output_type": "execute_result"
    }
   ],
   "source": [
    "#Checking cluster centers\n",
    "kmeans.cluster_centers_"
   ]
  },
  {
   "cell_type": "code",
   "execution_count": 24,
   "metadata": {},
   "outputs": [
    {
     "data": {
      "text/plain": [
       "array([0, 1, 1, 0, 1, 1, 1, 1, 1, 2, 0, 1, 2, 1, 1, 1, 2, 0, 2, 1, 1, 1,\n",
       "       0, 1, 0])"
      ]
     },
     "execution_count": 24,
     "metadata": {},
     "output_type": "execute_result"
    }
   ],
   "source": [
    "kmeans.labels_"
   ]
  },
  {
   "cell_type": "code",
   "execution_count": 27,
   "metadata": {},
   "outputs": [
    {
     "data": {
      "image/png": "[encoded data removed]",
      "text/plain": [
       "<Figure size 432x288 with 1 Axes>"
      ]
     },
     "metadata": {
      "needs_background": "light"
     },
     "output_type": "display_data"
    }
   ],
   "source": [
    "sse = {}\n",
    "for k in range(1, 20):\n",
    "    kmeans = KMeans(n_clusters=k, max_iter=1000).fit(df_x)\n",
    "    sse[k] = kmeans.inertia_ # Inertia: Sum of distances of samples to their closest cluster center\n",
    "plt.figure()\n",
    "plt.plot(list(sse.keys()), list(sse.values()))\n",
    "plt.xlabel(\"Number of cluster\")\n",
    "plt.ylabel(\"SSE\")\n",
    "plt.show()"
   ]
  },
  {
   "cell_type": "code",
   "execution_count": 28,
   "metadata": {},
   "outputs": [
    {
     "name": "stdout",
     "output_type": "stream",
     "text": [
      "For n_clusters=2, The Silhouette Coefficient is 0.3271084145417136\n",
      "For n_clusters=3, The Silhouette Coefficient is 0.3351693984160507\n",
      "For n_clusters=4, The Silhouette Coefficient is 0.261786751460265\n",
      "For n_clusters=5, The Silhouette Coefficient is 0.25877415617686955\n",
      "For n_clusters=6, The Silhouette Coefficient is 0.25574724956125605\n",
      "For n_clusters=7, The Silhouette Coefficient is 0.23667077260424618\n"
     ]
    }
   ],
   "source": [
    "from sklearn.metrics import silhouette_score\n",
    "for n_cluster in range(2, 8):\n",
    "    kmeans = KMeans(n_clusters=n_cluster).fit(df_x)\n",
    "    label = kmeans.labels_\n",
    "    sil_coeff = silhouette_score(df_x, label, metric='euclidean')\n",
    "    print(\"For n_clusters={}, The Silhouette Coefficient is {}\".format(n_cluster, sil_coeff))"
   ]
  }
 ],
 "metadata": {
  "kernelspec": {
   "display_name": "Python 3",
   "language": "python",
   "name": "python3"
  },
  "language_info": {
   "codemirror_mode": {
    "name": "ipython",
    "version": 3
   },
   "file_extension": ".py",
   "mimetype": "text/x-python",
   "name": "python",
   "nbconvert_exporter": "python",
   "pygments_lexer": "ipython3",
   "version": "3.7.3"
  }
 },
 "nbformat": 4,
 "nbformat_minor": 2
}
